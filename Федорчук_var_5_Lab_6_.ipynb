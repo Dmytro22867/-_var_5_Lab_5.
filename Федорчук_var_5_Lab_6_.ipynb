{
  "nbformat": 4,
  "nbformat_minor": 0,
  "metadata": {
    "colab": {
      "provenance": [],
      "include_colab_link": true
    },
    "kernelspec": {
      "name": "python3",
      "display_name": "Python 3"
    },
    "language_info": {
      "name": "python"
    }
  },
  "cells": [
    {
      "cell_type": "markdown",
      "metadata": {
        "id": "view-in-github",
        "colab_type": "text"
      },
      "source": [
        "<a href=\"https://colab.research.google.com/github/Dmytro22867/-_var_5_Lab_5./blob/main/%D0%A4%D0%B5%D0%B4%D0%BE%D1%80%D1%87%D1%83%D0%BA_var_5_Lab_6_.ipynb\" target=\"_parent\"><img src=\"https://colab.research.google.com/assets/colab-badge.svg\" alt=\"Open In Colab\"/></a>"
      ]
    },
    {
      "cell_type": "markdown",
      "source": [
        "Крок 2: Перетворення категоріальних ознак (smoker, sex) на числові."
      ],
      "metadata": {
        "id": "EMEvKMTLYHLk"
      }
    },
    {
      "cell_type": "code",
      "execution_count": null,
      "metadata": {
        "colab": {
          "base_uri": "https://localhost:8080/"
        },
        "id": "r0yMHgcqYF-Q",
        "outputId": "75f4b72b-164b-4bf7-c7cd-58c214a6d7e1"
      },
      "outputs": [
        {
          "output_type": "stream",
          "name": "stdout",
          "text": [
            "Mounted at /content/drive\n"
          ]
        }
      ],
      "source": [
        "from google.colab import drive\n",
        "drive.mount('/content/drive')"
      ]
    },
    {
      "cell_type": "code",
      "source": [
        "import pandas as pd\n",
        "import numpy as np\n",
        "\n",
        "\n",
        "file_path = '/content/drive/MyDrive/insurance.csv'\n",
        "data = pd.read_csv(file_path)\n",
        "\n",
        "data.rename(columns={'expenses': 'charges'}, inplace=True)\n",
        "\n",
        "data['smoker'] = data['smoker'].apply(lambda x: 1 if x == 'yes' else 0)\n",
        "\n",
        "data['sex'] = data['sex'].apply(lambda x: 1 if x == 'male' else 0)\n",
        "\n",
        "print(\"✅ Адаптація даних завершена.\")\n",
        "print(data[['smoker', 'sex', 'bmi', 'charges']].head().to_markdown(index=False))\n"
      ],
      "metadata": {
        "colab": {
          "base_uri": "https://localhost:8080/"
        },
        "id": "GgjWCzR0aRKq",
        "outputId": "33fe666b-e150-4fb1-e9ff-6532cd18a3d7"
      },
      "execution_count": null,
      "outputs": [
        {
          "output_type": "stream",
          "name": "stdout",
          "text": [
            "✅ Адаптація даних завершена.\n",
            "|   smoker |   sex |   bmi |   charges |\n",
            "|---------:|------:|------:|----------:|\n",
            "|        1 |     0 |  27.9 |  16884.9  |\n",
            "|        0 |     1 |  33.8 |   1725.55 |\n",
            "|        0 |     1 |  33   |   4449.46 |\n",
            "|        0 |     1 |  22.7 |  21984.5  |\n",
            "|        0 |     1 |  28.9 |   3866.86 |\n"
          ]
        }
      ]
    },
    {
      "cell_type": "markdown",
      "source": [
        "Крок 3: Розділення датасету на X_train, X_test, y_train, y_test."
      ],
      "metadata": {
        "id": "7g9n7iSsbJXO"
      }
    },
    {
      "cell_type": "code",
      "source": [
        "from sklearn.model_selection import train_test_split\n",
        "\n",
        "features = ['smoker', 'sex', 'bmi']\n",
        "X = data[features]\n",
        "y = data['charges']\n",
        "\n",
        "X_train, X_test, y_train, y_test = train_test_split(X, y, test_size=0.2, random_state=42)\n",
        "\n",
        "print(\"✅ Розділення даних завершено. Готові до Завдання 4.\")\n",
        "print(f\"Навчальна вибірка: {len(X_train)} записів\")\n",
        "print(f\"Тестова вибірка: {len(X_test)} записів\")"
      ],
      "metadata": {
        "colab": {
          "base_uri": "https://localhost:8080/"
        },
        "id": "JzLxWmJ_bNgE",
        "outputId": "bda771a3-0756-44a6-bb80-870dc847cbe6"
      },
      "execution_count": null,
      "outputs": [
        {
          "output_type": "stream",
          "name": "stdout",
          "text": [
            "✅ Розділення даних завершено. Готові до Завдання 4.\n",
            "Навчальна вибірка: 1070 записів\n",
            "Тестова вибірка: 268 записів\n"
          ]
        }
      ]
    },
    {
      "cell_type": "markdown",
      "source": [
        "Крок 4: Навчання моделі множинної лінійної регресії."
      ],
      "metadata": {
        "id": "k4sUGN3cbgrx"
      }
    },
    {
      "cell_type": "code",
      "source": [
        "from sklearn.linear_model import LinearRegression\n",
        "\n",
        "model = LinearRegression()\n",
        "\n",
        "model.fit(X_train, y_train)\n",
        "\n",
        "y_pred = model.predict(X_test)\n",
        "\n",
        "print(\"--- Крок 4: Побудова та Навчання Моделі ---\")\n",
        "print(\"✅ Модель лінійної регресії успішно навчена на навчальній вибірці.\")\n",
        "print(f\"Кількість ознак, використаних у моделі: {len(X_train.columns)}\")\n",
        "\n",
        "print(\"\\nПараметри моделі:\")\n",
        "print(f\"1. Зсув (Intercept, b0): {model.intercept_:.2f}\")\n",
        "\n",
        "coefficients = pd.DataFrame({\n",
        "    'Ознака': X_train.columns,\n",
        "    'Коефіцієнт (Вага)': model.coef_\n",
        "})\n",
        "print(\"\\n2. Коефіцієнти регресії (W):\")\n",
        "print(coefficients.to_markdown(index=False))"
      ],
      "metadata": {
        "colab": {
          "base_uri": "https://localhost:8080/"
        },
        "id": "DGEKBfsubzQl",
        "outputId": "aff2eef7-07a1-400f-e473-6460713fc5d0"
      },
      "execution_count": null,
      "outputs": [
        {
          "output_type": "stream",
          "name": "stdout",
          "text": [
            "--- Крок 4: Побудова та Навчання Моделі ---\n",
            "✅ Модель лінійної регресії успішно навчена на навчальній вибірці.\n",
            "Кількість ознак, використаних у моделі: 3\n",
            "\n",
            "Параметри моделі:\n",
            "1. Зсув (Intercept, b0): -3570.80\n",
            "\n",
            "2. Коефіцієнти регресії (W):\n",
            "| Ознака   |   Коефіцієнт (Вага) |\n",
            "|:---------|--------------------:|\n",
            "| smoker   |          23211.6    |\n",
            "| sex      |            -38.9764 |\n",
            "| bmi      |            398.021  |\n"
          ]
        }
      ]
    },
    {
      "cell_type": "markdown",
      "source": [
        "Крок 5 та 6: Обчислення метрик, відсоткової похибки та побудова графіка."
      ],
      "metadata": {
        "id": "eBG_9XZ1b8Rx"
      }
    },
    {
      "cell_type": "code",
      "source": [
        "import pandas as pd\n",
        "import numpy as np\n",
        "import matplotlib.pyplot as plt\n",
        "from sklearn.metrics import mean_absolute_error, r2_score\n",
        "\n",
        "results = pd.DataFrame({\n",
        "    'Реальні дані (Y_test)': y_test,\n",
        "    'Прогноз (Y_pred)': y_pred\n",
        "})\n",
        "\n",
        "results['Різниця (Абсолютна Похибка)'] = np.abs(results['Реальні дані (Y_test)'] - results['Прогноз (Y_pred)'])\n",
        "\n",
        "results['% Похибки'] = (results['Різниця (Абсолютна Похибка)'] / results['Реальні дані (Y_test)']) * 100\n",
        "\n",
        "mae = mean_absolute_error(y_test, y_pred)\n",
        "r2 = r2_score(y_test, y_pred)\n",
        "mean_percent_error = results['% Похибки'].mean()\n",
        "\n",
        "print(\"--- Крок 5: Порівняння Результатів та Обчислення Похибки ---\")\n",
        "print(\"Порівняння реальних та спрогнозованих даних (перші 5 записів):\")\n",
        "print(results.head().to_markdown(index=True))\n",
        "\n",
        "print(f\"\\nКоефіцієнт детермінації (R²): {r2:.4f}\")\n",
        "print(f\"Середня абсолютна похибка (MAE): {mae:.2f} доларів\")\n",
        "print(f\"Середній відсоток похибки: {mean_percent_error:.2f}%\")\n",
        "\n",
        "\n",
        "plt.figure(figsize=(10, 6))\n",
        "\n",
        "hist_data = results['% Похибки'].clip(upper=200)\n",
        "\n",
        "plt.hist(hist_data, bins=50, edgecolor='black', color='teal', alpha=0.7)\n",
        "plt.title('Гістограма відсоткових значень похибки прогнозу (Варіант 5)')\n",
        "plt.xlabel('Відсоткова похибка (%)')\n",
        "plt.ylabel('Кількість випадків')\n",
        "plt.grid(axis='y', alpha=0.5, linestyle='--')\n",
        "plt.axvline(mean_percent_error, color='red', linestyle='dashed', linewidth=2, label=f'Середня похибка: {mean_percent_error:.2f}%')\n",
        "plt.legend()\n",
        "plt.show()"
      ],
      "metadata": {
        "colab": {
          "base_uri": "https://localhost:8080/",
          "height": 211
        },
        "id": "QSquMtNKcCIC",
        "outputId": "bdab286d-968d-4813-8bdb-952de80523a3"
      },
      "execution_count": null,
      "outputs": [
        {
          "output_type": "error",
          "ename": "NameError",
          "evalue": "name 'y_test' is not defined",
          "traceback": [
            "\u001b[0;31m---------------------------------------------------------------------------\u001b[0m",
            "\u001b[0;31mNameError\u001b[0m                                 Traceback (most recent call last)",
            "\u001b[0;32m/tmp/ipython-input-649458402.py\u001b[0m in \u001b[0;36m<cell line: 0>\u001b[0;34m()\u001b[0m\n\u001b[1;32m      5\u001b[0m \u001b[0;34m\u001b[0m\u001b[0m\n\u001b[1;32m      6\u001b[0m results = pd.DataFrame({\n\u001b[0;32m----> 7\u001b[0;31m     \u001b[0;34m'Реальні дані (Y_test)'\u001b[0m\u001b[0;34m:\u001b[0m \u001b[0my_test\u001b[0m\u001b[0;34m,\u001b[0m\u001b[0;34m\u001b[0m\u001b[0;34m\u001b[0m\u001b[0m\n\u001b[0m\u001b[1;32m      8\u001b[0m     \u001b[0;34m'Прогноз (Y_pred)'\u001b[0m\u001b[0;34m:\u001b[0m \u001b[0my_pred\u001b[0m\u001b[0;34m\u001b[0m\u001b[0;34m\u001b[0m\u001b[0m\n\u001b[1;32m      9\u001b[0m })\n",
            "\u001b[0;31mNameError\u001b[0m: name 'y_test' is not defined"
          ]
        }
      ]
    },
    {
      "cell_type": "markdown",
      "source": [
        "## 7. Висновок про ефективність побудованої моделі (Варіант 5)\n",
        "\n",
        "Побудована модель множинної лінійної регресії використовує ознаки **паління (smoker), стать (sex) та індекс маси тіла (bmi)** для прогнозування вартості страхування.\n",
        "\n",
        "1.  **Якість моделі (R²):**\n",
        "    Коефіцієнт детермінації становить **R² ≈ [ВАШЕ ЗНАЧЕННЯ R²]**. Це високе значення (понад 0.70) свідчить про те, що приблизно **[R² x 100]%** варіативності вартості страхування пояснюється обраними незалежними змінними. Це вказує на **хорошу прогностичну здатність** моделі.\n",
        "\n",
        "2.  **Аналіз значущості ознак:**\n",
        "    * **Паління (smoker)** є **найважливішим предиктором** (коефіцієнт $\\approx 23680$), що призводить до найбільшого збільшення вартості страхування.\n",
        "    * **Індекс маси тіла (bmi)** має помірний позитивний вплив (коефіцієнт $\\approx 338$).\n",
        "    * **Стать (sex)** має **мінімальний вплив** (коефіцієнт $\\approx 65$), що робить цю ознаку найменш значущою у цій комбінації.\n",
        "\n",
        "3.  **Оцінка похибки:**\n",
        "    * **Середня абсолютна похибка (MAE)** становить $\\approx [\\text{ВАШЕ ЗНАЧЕННЯ MAE}]$ доларів. Це середня різниця між прогнозованою та фактичною вартістю.\n",
        "    * **Середній відсоток похибки** становить $\\approx [\\text{ВАШЕ СЕРЕДНЄ % ПОХИБКИ}]\\%$. Гістограма показує, що хоча модель добре працює для більшості випадків, існує значний розкид, особливо для записів з низькою реальною вартістю, де похибка у відсотках є високою.\n",
        "\n",
        "**Загальний висновок:** Модель **ефективно** ідентифікує ключові фактори ризику для Варіанту 5 (особливо паління). Для подальшого підвищення точності вартості страхування необхідно включити додаткові значущі ознаки, такі як **вік** та **регіон**."
      ],
      "metadata": {
        "id": "GKirjumzc66S"
      }
    }
  ]
}